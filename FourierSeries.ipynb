{
 "cells": [
  {
   "cell_type": "markdown",
   "id": "355c06e9",
   "metadata": {},
   "source": [
    "## Fourier Series"
   ]
  },
  {
   "cell_type": "code",
   "execution_count": 10,
   "id": "5c9a7f2b",
   "metadata": {},
   "outputs": [],
   "source": [
    "import numpy as np\n",
    "import matplotlib.pyplot as plt\n",
    "from scipy.integrate import quad"
   ]
  },
  {
   "cell_type": "markdown",
   "id": "fef6ac7a",
   "metadata": {},
   "source": [
    "#### The Square Function\n",
    "Create a python function for the square function shown below.\n",
    "This function has a period of $2\\pi$ and alternates between $-1$ and $1$.\n",
    "\n",
    "<img width=600px src=\"SquareFunction.png\">"
   ]
  },
  {
   "cell_type": "code",
   "execution_count": 11,
   "id": "b95d3e66",
   "metadata": {},
   "outputs": [],
   "source": [
    "def squareFunction(x):\n",
    "    ### TO DO: Create a square function\n",
    "    val = 8\n",
    "    n = x // (2*np.pi)\n",
    "    x = x - n*2*np.pi\n",
    "    if x < np.pi:\n",
    "        val = 1\n",
    "    else:\n",
    "        val = -1\n",
    "    return val"
   ]
  },
  {
   "cell_type": "code",
   "execution_count": 12,
   "id": "bed28931",
   "metadata": {},
   "outputs": [
    {
     "data": {
      "text/plain": [
       "[<matplotlib.lines.Line2D at 0x7ff2a20ecd00>]"
      ]
     },
     "execution_count": 12,
     "metadata": {},
     "output_type": "execute_result"
    },
    {
     "data": {
      "image/png": "[encoded data removed]",
      "text/plain": [
       "<Figure size 432x288 with 1 Axes>"
      ]
     },
     "metadata": {
      "needs_background": "light"
     },
     "output_type": "display_data"
    }
   ],
   "source": [
    "### TO DO: Plot the square function from (-4pi, 4pi)\n",
    "xx = np.linspace(-4*np.pi, 4*np.pi, 1000)\n",
    "yy = np.array([])\n",
    "for x in range(1000):\n",
    "    yy = np.append(yy, squareFunction(xx[x]))\n",
    "plt.plot(xx, yy)\n",
    "# print(squareFunction(np.pi))"
   ]
  },
  {
   "cell_type": "markdown",
   "id": "0b62c027",
   "metadata": {},
   "source": [
    "Visually, verify your plot matches the graph in the image above."
   ]
  },
  {
   "cell_type": "markdown",
   "id": "8d4abcbb",
   "metadata": {},
   "source": [
    "#### The Sine Series\n",
    "Create a function that returns the sum of the first $k$ elements of the fourier sine series. "
   ]
  },
  {
   "cell_type": "code",
   "execution_count": 57,
   "id": "ce182dba",
   "metadata": {},
   "outputs": [],
   "source": [
    "def fourierSineSeries(k, bk, x):\n",
    "    \"\"\"\n",
    "    Returns the sum of the first k elements of the fourier sine series\n",
    "    Parameters:\n",
    "        k: the number of elements to summate\n",
    "        bk: the coefficients of each element\n",
    "        x: the x value to evaluate\n",
    "    Returns:\n",
    "        The S(x) approximation using the fourier sine series\n",
    "    \"\"\"\n",
    "    ### TO DO: Create the fourier sine series sum\n",
    "    sum = 0\n",
    "    for i in range(k):\n",
    "        sum = sum + bk[i]*np.sin((i+1)*x)\n",
    "    return sum"
   ]
  },
  {
   "cell_type": "markdown",
   "id": "c9730cbd",
   "metadata": {},
   "source": [
    "#### Find the $b_k$ terms \n",
    "Using your square function and fourier sine series, find and plot the first 5, 10, and 100 $b_k$ terms for your square function. \n",
    "\n",
    "In order to find this coefficients, you'll have to use some integral function. I recommend using `quad` defined here: https://docs.scipy.org/doc/scipy/reference/generated/scipy.integrate.quad.html\n",
    "\n",
    "Recall the integral to find the $b_k$ coefficients is defined as:\n",
    "\n",
    "$$b_k = \\frac{2}{\\pi} \\int \\limits^{\\pi}_{0} S(x)sin(kx) dx $$\n",
    "\n",
    "The quad function, and other pre-made integral functions take a function $f$ as a argument. In order to be able to give these integration functions a single function name, you may have to define an `integrand` function (provided below) that computes the value $S(x)sin(kx)$. "
   ]
  },
  {
   "cell_type": "code",
   "execution_count": 58,
   "id": "0c5ee8d2",
   "metadata": {},
   "outputs": [],
   "source": [
    "def integrand(x, k):\n",
    "    ### TO DO: Define S(x)sin(kx) integrand used to solve for the coefficients \n",
    "    return (2/np.pi)*squareFunction(x)*np.sin(k*x)"
   ]
  },
  {
   "cell_type": "code",
   "execution_count": 59,
   "id": "d4044b12",
   "metadata": {},
   "outputs": [
    {
     "name": "stdout",
     "output_type": "stream",
     "text": [
      "[ 1.27323954e+00  7.02001624e-17  4.24413182e-01 -1.78708949e-17\n",
      "  2.54647909e-01  1.62257871e-17  1.81891364e-01 -2.81137697e-16\n",
      "  1.41471061e-01 -4.51752594e-16  1.15749050e-01  6.47532102e-16\n",
      "  9.79415034e-02 -7.15330766e-16  8.48826363e-02  4.53414306e-16\n",
      "  7.48964438e-02 -7.52535756e-16  6.70126076e-02 -3.86432282e-17\n",
      "  6.06304545e-02  1.72163944e-15  5.53582411e-02 -9.00818733e-16\n",
      "  5.09295818e-02 -4.61772565e-16  4.71570202e-02 -1.73174182e-15\n",
      "  4.39048119e-02  9.05938777e-16  4.10722434e-02 -9.37098489e-16\n",
      "  3.85830165e-02  1.10181674e-15  3.63782727e-02 -1.86045358e-16\n",
      "  3.44118796e-02 -8.60916337e-16  3.26471678e-02  1.60796541e-15\n",
      "  3.10546230e-02 -1.52568382e-15  2.96102220e-02 -1.39657267e-15\n",
      "  2.82942121e-02 -8.55259910e-16  2.70902031e-02 -1.27997216e-15\n",
      "  2.59844805e-02  3.70445807e-15  2.49654813e-02  1.53219886e-15\n",
      "  2.40233876e-02 -1.01021755e-15  2.31498099e-02  1.17994982e-15\n",
      "  2.23375359e-02  1.92270687e-15  2.15803313e-02 -1.13054960e-15\n",
      "  2.08727794e-02 -7.47275234e-16  2.02101515e-02 -1.30224955e-15\n",
      "  1.95883007e-02 -1.88511621e-15  1.90035753e-02  2.84435057e-15\n",
      "  1.84527470e-02 -6.71425121e-16  1.79329513e-02 -1.21084698e-15\n",
      "  1.74416376e-02  5.52309807e-15  1.69765273e-02 -3.70473766e-15\n",
      "  1.65355785e-02  6.29573879e-15  1.61169563e-02 -5.80896680e-15\n",
      "  1.57190067e-02  1.59748182e-15  1.53402355e-02 -5.37666369e-15\n",
      "  1.49792888e-02  3.99313141e-15  1.46349373e-02 -2.16312640e-15\n",
      "  1.43060623e-02 -2.09076707e-15  1.39916433e-02 -2.50441115e-15\n",
      "  1.36907478e-02 -6.24702189e-15  1.34025215e-02  4.10306292e-15\n",
      "  1.31261809e-02  3.12666266e-15  1.28610055e-02]\n"
     ]
    }
   ],
   "source": [
    "## TO DO: Calculate the b_k coefficient values\n",
    "val = np.array([])\n",
    "for i in range(1, 100):\n",
    "    temp = quad(integrand, 0, np.pi, args=(i,))\n",
    "    val = np.append(val, temp[0])\n",
    "print(val)"
   ]
  },
  {
   "cell_type": "markdown",
   "id": "1e1da68d",
   "metadata": {},
   "source": [
    "Plot the sum of the first 5 elements in the fourier sine series for the square wave function."
   ]
  },
  {
   "cell_type": "code",
   "execution_count": 66,
   "id": "a6dacbd1",
   "metadata": {},
   "outputs": [
    {
     "data": {
      "text/plain": [
       "[<matplotlib.lines.Line2D at 0x7ff2a2d19f70>]"
      ]
     },
     "execution_count": 66,
     "metadata": {},
     "output_type": "execute_result"
    },
    {
     "data": {
      "image/png": "[encoded data removed]",
      "text/plain": [
       "<Figure size 432x288 with 1 Axes>"
      ]
     },
     "metadata": {
      "needs_background": "light"
     },
     "output_type": "display_data"
    }
   ],
   "source": [
    "## TO DO: Plot the sum of the first 5 elements. \n",
    "xx = np.linspace(-np.pi, np.pi, 1000)\n",
    "val = np.array([])\n",
    "for i in range(1, 6):\n",
    "    temp = quad(integrand, 0, np.pi, args=(i,))\n",
    "    val = np.append(val, temp[0])\n",
    "yy = fourierSineSeries(5, val, xx)\n",
    "plt.plot(xx,yy)\n",
    "# print(val)\n",
    "# print(xx)\n",
    "# print(yy)"
   ]
  },
  {
   "cell_type": "markdown",
   "id": "37b16b06",
   "metadata": {},
   "source": [
    "Plot the sum of the first 10 elements in the fourier sine series for the square wave function."
   ]
  },
  {
   "cell_type": "code",
   "execution_count": 65,
   "id": "6d36dcc2",
   "metadata": {},
   "outputs": [
    {
     "data": {
      "text/plain": [
       "[<matplotlib.lines.Line2D at 0x7ff2a2ca9820>]"
      ]
     },
     "execution_count": 65,
     "metadata": {},
     "output_type": "execute_result"
    },
    {
     "data": {
      "image/png": "[encoded data removed]",
      "text/plain": [
       "<Figure size 432x288 with 1 Axes>"
      ]
     },
     "metadata": {
      "needs_background": "light"
     },
     "output_type": "display_data"
    }
   ],
   "source": [
    "## TO DO: Plot the sum of the first 10coefficient  elements.\n",
    "xx = np.linspace(-np.pi, np.pi, 1000)\n",
    "val = np.array([])\n",
    "for i in range(1, 11):\n",
    "    temp = quad(integrand, 0, np.pi, args=(i,))\n",
    "    val = np.append(val, temp[0])\n",
    "yy = fourierSineSeries(10, val, xx)\n",
    "plt.plot(xx,yy)"
   ]
  },
  {
   "cell_type": "markdown",
   "id": "2030fa28",
   "metadata": {},
   "source": [
    "Plot the sum of the first 100 elements in the fourier sine series for the square wave function."
   ]
  },
  {
   "cell_type": "code",
   "execution_count": 62,
   "id": "561b7373",
   "metadata": {},
   "outputs": [],
   "source": [
    "## TO DO: Plot the sum of the first 100 elements."
   ]
  },
  {
   "cell_type": "code",
   "execution_count": 64,
   "id": "9ba5b3ce",
   "metadata": {},
   "outputs": [
    {
     "data": {
      "text/plain": [
       "[<matplotlib.lines.Line2D at 0x7ff2a2bdd160>]"
      ]
     },
     "execution_count": 64,
     "metadata": {},
     "output_type": "execute_result"
    },
    {
     "data": {
      "image/png": "[encoded data removed]",
      "text/plain": [
       "<Figure size 432x288 with 1 Axes>"
      ]
     },
     "metadata": {
      "needs_background": "light"
     },
     "output_type": "display_data"
    }
   ],
   "source": [
    "xx = np.linspace(-np.pi, np.pi, 1000)\n",
    "val = np.array([])\n",
    "for i in range(1, 101):\n",
    "    temp = quad(integrand, 0, np.pi, args=(i,))\n",
    "    val = np.append(val, temp[0])\n",
    "yy = fourierSineSeries(100, val, xx)\n",
    "plt.plot(xx,yy)"
   ]
  },
  {
   "cell_type": "code",
   "execution_count": null,
   "id": "63225a01",
   "metadata": {},
   "outputs": [],
   "source": []
  }
 ],
 "metadata": {
  "kernelspec": {
   "display_name": "Python 3",
   "language": "python",
   "name": "python3"
  },
  "language_info": {
   "codemirror_mode": {
    "name": "ipython",
    "version": 3
   },
   "file_extension": ".py",
   "mimetype": "text/x-python",
   "name": "python",
   "nbconvert_exporter": "python",
   "pygments_lexer": "ipython3",
   "version": "3.8.8"
  }
 },
 "nbformat": 4,
 "nbformat_minor": 5
}
