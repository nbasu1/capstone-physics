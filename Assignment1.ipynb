{
 "cells": [
  {
   "cell_type": "markdown",
   "metadata": {},
   "source": [
    "## Assignment 1: Introduction to Python"
   ]
  },
  {
   "cell_type": "code",
   "execution_count": 8,
   "metadata": {},
   "outputs": [],
   "source": [
    "from numpy import sqrt"
   ]
  },
  {
   "cell_type": "markdown",
   "metadata": {},
   "source": [
    "From <u> Computational Physics </u> by Newman\n",
    "\n",
    "Exercise 2.1:\n",
    "\n",
    "A ball is dropped from a tower of height $h$ with an initial velocity of zero. \n",
    "Write a function that takes the height of the tower in meters as an argument and then calculates and returns the time it takes until the ball hits the ground (ignoring air resistance). <b> Use $g = 10\\ m/s^2$ </b>\n",
    "\n",
    "You may find the following kinematic equation to be helpful:\n",
    "$$ x_f = x_0 + v_0 t + \\frac{1}{2} a t^2 $$"
   ]
  },
  {
   "cell_type": "code",
   "execution_count": 5,
   "metadata": {},
   "outputs": [],
   "source": [
    "def time_to_fall(h):\n",
    "    \"\"\"\n",
    "    Calculates the amount of time it takes a ball to fall from a tower of height h with intial velocity zero.\n",
    "    Parameters:\n",
    "        h (float) - the height of the tower in meters\n",
    "    Returns:\n",
    "        (float) time in seconds\n",
    "    \n",
    "    \"\"\"\n",
    "    g = 10\n",
    "    time = (2*h/g)**(1/2)\n",
    "    return time\n",
    "    # TO DO: Complete this function\n",
    "    pass"
   ]
  },
  {
   "cell_type": "markdown",
   "metadata": {},
   "source": [
    "Below I've added `assert` statements. These statements are useful ways to test functionality. They are often referred to as unit tests because they test a single unit or function of code. These statements will produce an `AssertionError` if your function does not produce the expected result. Otherwise, they will run silently and produce no result."
   ]
  },
  {
   "cell_type": "code",
   "execution_count": 6,
   "metadata": {},
   "outputs": [
    {
     "data": {
      "text/plain": [
       "1.4142135623730951"
      ]
     },
     "execution_count": 6,
     "metadata": {},
     "output_type": "execute_result"
    }
   ],
   "source": [
    "time_to_fall(10)"
   ]
  },
  {
   "cell_type": "code",
   "execution_count": 8,
   "metadata": {},
   "outputs": [],
   "source": [
    "assert(time_to_fall(0) == 0)\n",
    "assert(time_to_fall(20) == 2)"
   ]
  },
  {
   "cell_type": "markdown",
   "metadata": {},
   "source": [
    "<b> ADD ONE MORE ASSERT STATEMENT BELOW </b>"
   ]
  },
  {
   "cell_type": "code",
   "execution_count": 10,
   "metadata": {},
   "outputs": [],
   "source": [
    "#TO DO: Add an assert statement in this cell!\n",
    "assert(time_to_fall(10) == 1.4142135623730951)"
   ]
  },
  {
   "cell_type": "code",
   "execution_count": null,
   "metadata": {},
   "outputs": [],
   "source": []
  }
 ],
 "metadata": {
  "kernelspec": {
   "display_name": "Python 3",
   "language": "python",
   "name": "python3"
  },
  "language_info": {
   "codemirror_mode": {
    "name": "ipython",
    "version": 3
   },
   "file_extension": ".py",
   "mimetype": "text/x-python",
   "name": "python",
   "nbconvert_exporter": "python",
   "pygments_lexer": "ipython3",
   "version": "3.8.8"
  }
 },
 "nbformat": 4,
 "nbformat_minor": 2
}
