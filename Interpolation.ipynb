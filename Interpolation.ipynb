{
 "cells": [
  {
   "cell_type": "markdown",
   "metadata": {},
   "source": [
    "# Interpolation"
   ]
  },
  {
   "cell_type": "code",
   "execution_count": 2,
   "metadata": {},
   "outputs": [],
   "source": [
    "import numpy as np\n",
    "import matplotlib.pyplot as plt"
   ]
  },
  {
   "cell_type": "markdown",
   "metadata": {},
   "source": [
    "### Linear Interpolation"
   ]
  },
  {
   "cell_type": "markdown",
   "metadata": {},
   "source": [
    "Suppose we are given a function $f(x)$ at just two points, $x=a$ and $x=b$, and you want to know the function at another point in between. The simplest way to find an estimate of this value is using linear interpolation. Linear interpolation assumes the function follows a straight line between two points. The slope of the straight line approximate is:\n",
    "$$ m = \\frac{f(b) - f(a)}{b - a} $$\n",
    "\n",
    "Then the value $f(x)$ can be approximated by:\n",
    "$$ f(x) \\approx \\frac{f(b) - f(a)}{b-a} (x-a) + f(a) $$"
   ]
  },
  {
   "cell_type": "markdown",
   "metadata": {},
   "source": [
    "#### Step 1: Define a linear function\n",
    "\n",
    "Create a linear function $f(x) = ax + b$. Linear interpolation will yield an accurate answer for a a linear function. This is how we will test our linear interpolation."
   ]
  },
  {
   "cell_type": "code",
   "execution_count": 3,
   "metadata": {},
   "outputs": [],
   "source": [
    "def my_function(x):\n",
    "    # TO DO: Create a linear function\n",
    "    func = x + 2\n",
    "    return func"
   ]
  },
  {
   "cell_type": "markdown",
   "metadata": {},
   "source": [
    "#### Step 2: Implement the linear interpolation\n",
    "Using the equations given above, implement the linear interpolation function"
   ]
  },
  {
   "cell_type": "code",
   "execution_count": 4,
   "metadata": {},
   "outputs": [],
   "source": [
    "def linear_interpolation(x, a, fa, b, fb):\n",
    "    \"\"\"\n",
    "    Fits a line to points (a, f(a)) and (b, f(b)) and returns an \n",
    "    approximation for f(x) for some value x between a and b from \n",
    "    the equation of the line.\n",
    "    Parameters:\n",
    "        x (float): the point of interest between a and b\n",
    "        a (float): known x value\n",
    "        fa (float): known f(a) value\n",
    "        b (float): known x value (b > a)\n",
    "        fb (float): known f(b) value\n",
    "    Returns:\n",
    "        (float): an approximation of f(x) using linear interpolation\n",
    "    \"\"\"\n",
    "    # To Do: Implement the linear interpolation function\n",
    "    m = (fb - fa)/(b-a)\n",
    "    val = m*(x-a) + fa\n",
    "    return val"
   ]
  },
  {
   "cell_type": "markdown",
   "metadata": {},
   "source": [
    "#### Step 3: Test your linear interpolation\n",
    "Using the linear function you created and your linear interpolation function, write at least three assert statements."
   ]
  },
  {
   "cell_type": "code",
   "execution_count": 5,
   "metadata": {},
   "outputs": [],
   "source": [
    "# To DO: Create at least three assert statements using my_function and linear_interpolation\n",
    "assert(linear_interpolation(4,1,my_function(1),2,my_function(2)) == my_function(4))\n",
    "assert(linear_interpolation(5,1,my_function(1),3,my_function(3)) == my_function(5))\n",
    "assert(linear_interpolation(6,2,my_function(2),3,my_function(3)) == my_function(6))"
   ]
  },
  {
   "cell_type": "markdown",
   "metadata": {},
   "source": [
    "#### Step 4: Visualization your results\n",
    "Plot your function. Using a scatter plot, plot at least three x, y points generated using your linear_interpolation function."
   ]
  },
  {
   "cell_type": "code",
   "execution_count": 6,
   "metadata": {},
   "outputs": [
    {
     "data": {
      "text/plain": [
       "[<matplotlib.lines.Line2D at 0x7fccd8056250>]"
      ]
     },
     "execution_count": 6,
     "metadata": {},
     "output_type": "execute_result"
    },
    {
     "data": {
      "image/png": "[encoded data removed]",
      "text/plain": [
       "<Figure size 432x288 with 1 Axes>"
      ]
     },
     "metadata": {
      "needs_background": "light"
     },
     "output_type": "display_data"
    }
   ],
   "source": [
    "# To Do: Plot your function with at least three interpolated values\n",
    "    \n",
    "x = np.array([0,1,2,3,4,5,6,7,8,9])\n",
    "y = np.array([])\n",
    "for i in range(10):\n",
    "    y = np.append(y, linear_interpolation(i, 0, my_function(0), 11, my_function(11)))\n",
    "plt.plot(x, y)"
   ]
  },
  {
   "cell_type": "markdown",
   "metadata": {},
   "source": [
    "### 2nd Order Lagrangian Interpolation"
   ]
  },
  {
   "cell_type": "markdown",
   "metadata": {},
   "source": [
    "If we have more than two points, a better way to get an estimate of \"in between\" points is using a Lagrangian Interpolation. Lagrangian Interpolation fits a nth order polynomial to a number of points. Higher order polynomials often introduce unnecessary \"wiggles\" that introduce error. Using many low-order polynomials often generate a better estimate. For this example, let's use a quadratic (i.e. a 2nd order polynomial). \n",
    "\n",
    "$$f(x) = \\frac{(x-b)(x-c)}{(a - b)(a-c)}f(a) + \\frac{(x-a)(x-c)}{(b-a)(b-c)}f(b) + \\frac{(x - a)(x-b)}{(c - a)(c - b)} f(c) $$"
   ]
  },
  {
   "cell_type": "markdown",
   "metadata": {},
   "source": [
    "#### Step 1: Define a quadratic function\n",
    "\n",
    "Create a quadratic function $f(x) = ax^2 + bx + c$. 2nd Order Lagrangian Interpolation will yield an accurate answer for a 2nd order polynomial (i.e. a quadratic). This is how we will test our interpolation."
   ]
  },
  {
   "cell_type": "code",
   "execution_count": 7,
   "metadata": {},
   "outputs": [],
   "source": [
    "def my_function(x):\n",
    "    #To Do: Create a quadratic function\n",
    "    return 2*x**2 + 2*x + 2"
   ]
  },
  {
   "cell_type": "markdown",
   "metadata": {},
   "source": [
    "#### Step 2: Implement the 2nd Order Lagrangian Interpolation Function\n",
    "Using the equations given above, implement the 2nd order lagrangian interpolation function"
   ]
  },
  {
   "cell_type": "code",
   "execution_count": 8,
   "metadata": {},
   "outputs": [],
   "source": [
    "def lagrangian_interpolation(x, a, fa, b, fb, c, fc):\n",
    "    \"\"\"\n",
    "    Fits a quadratic to points (a, f(a)), (b, f(b)), and (c, f(c)) and returns an \n",
    "    approximation for f(x) for some value x between a and c from the \n",
    "    equation of a quadratic.\n",
    "    Parameters:\n",
    "        x (float): the point of interest between a and b\n",
    "        a (float): known x value\n",
    "        fa (float): known f(a) value\n",
    "        b (float): known x value (b > a)\n",
    "        fb (float): known f(b) value\n",
    "        c (float): known x value (c > b)\n",
    "        fc (float): known f(c) value\n",
    "    Returns:\n",
    "        (float): an approximation of f(x) using linear interpolation\n",
    "    \"\"\"\n",
    "    return ((x - b)*(x - c)*fa)/((a - b)*(a - c)) + ((x - a)*(x - c)*fb)/((b - a)*(b - c)) + ((x - a)*(x - b)*fc)/((c - a)*(c - b))"
   ]
  },
  {
   "cell_type": "markdown",
   "metadata": {},
   "source": [
    "#### Step 3: Test your results"
   ]
  },
  {
   "cell_type": "markdown",
   "metadata": {},
   "source": [
    "Using the quadratic function you created and your 2nd order lagrangian interpolation function, write at least three assert statements."
   ]
  },
  {
   "cell_type": "code",
   "execution_count": 9,
   "metadata": {},
   "outputs": [],
   "source": [
    "# To Do: Write at least three assert statements\n",
    "a = 1\n",
    "b = 10\n",
    "c = 20\n",
    "x = 5\n",
    "assert(abs(lagrangian_interpolation(x, a, my_function(a), b, my_function(b), c, my_function(c)) - my_function(x)) < 0.01)\n",
    "x = 8\n",
    "assert(abs(lagrangian_interpolation(x, a, my_function(a), b, my_function(b), c, my_function(c)) - my_function(x)) < 0.01)\n",
    "x = 9\n",
    "assert(abs(lagrangian_interpolation(x, a, my_function(a), b, my_function(b), c, my_function(c)) - my_function(x)) < 0.01)"
   ]
  },
  {
   "cell_type": "markdown",
   "metadata": {},
   "source": [
    "#### Step 4: Visualize your results\n",
    "Plot your function and using a scatter plot, plot at least three x, y points generated from your lagrangian_interpolation function."
   ]
  },
  {
   "cell_type": "code",
   "execution_count": 10,
   "metadata": {},
   "outputs": [
    {
     "data": {
      "text/plain": [
       "[<matplotlib.lines.Line2D at 0x7fccd8281160>]"
      ]
     },
     "execution_count": 10,
     "metadata": {},
     "output_type": "execute_result"
    },
    {
     "data": {
      "image/png": "[encoded data removed]",
      "text/plain": [
       "<Figure size 432x288 with 1 Axes>"
      ]
     },
     "metadata": {
      "needs_background": "light"
     },
     "output_type": "display_data"
    }
   ],
   "source": [
    "# To Do: Plot your function with interpolated values\n",
    "x = np.array([0,1,2,3,4,5,6,7,8,9])\n",
    "y = np.array([])\n",
    "for i in range(10):\n",
    "    y = np.append(y, lagrangian_interpolation(i, -1, my_function(-1), 11, my_function(11), 20, my_function(20)))\n",
    "plt.plot(x, y)"
   ]
  },
  {
   "cell_type": "markdown",
   "metadata": {},
   "source": [
    "### Application"
   ]
  },
  {
   "cell_type": "markdown",
   "metadata": {},
   "source": [
    "Also contained in this file is a text file called `Partial_Data.txt`. This contains sparse data. In this application section we're going to import the data and approximate the curve using linear and 2nd order lagranging interpolation."
   ]
  },
  {
   "cell_type": "markdown",
   "metadata": {},
   "source": [
    "#### Step 1: Import the data\n",
    "Take a look at the file and see what data it contains. I suggest using `np.loadtxt` to import this data. Using the argument `unpack = True` will allow you to easily assign each column of data to an individual variable. For more information on the `loadtxt` function and its allowed arguments, see: https://numpy.org/doc/stable/reference/generated/numpy.loadtxt.html"
   ]
  },
  {
   "cell_type": "code",
   "execution_count": 11,
   "metadata": {},
   "outputs": [
    {
     "data": {
      "text/plain": [
       "[<matplotlib.lines.Line2D at 0x7fccd838fa00>]"
      ]
     },
     "execution_count": 11,
     "metadata": {},
     "output_type": "execute_result"
    },
    {
     "data": {
      "image/png": "[encoded data removed]",
      "text/plain": [
       "<Figure size 432x288 with 1 Axes>"
      ]
     },
     "metadata": {
      "needs_background": "light"
     },
     "output_type": "display_data"
    }
   ],
   "source": [
    "# To Do: Import the data \n",
    "# To Do: Scatter plot the data\n",
    "data = np.loadtxt(\"./Partial_Data.txt\", unpack = True)\n",
    "plt.plot(data[0], data[1])"
   ]
  },
  {
   "cell_type": "markdown",
   "metadata": {},
   "source": [
    "#### Step 2: Linear Interpolation\n",
    "Using your linear interpolation function above, iterate through the sparse data and generate interpolated value.\n",
    "\n",
    "Here's one method to get you started:\n",
    "\n",
    "Starting at the 2nd data point, interate through the data, using the current value (let this value be $b$) and the previous data point (let this be $a$ where $b$ > $a$). Interpolate 100 points between the values of ($a, b$) and plot these values. Move onto the next data point and repeat. "
   ]
  },
  {
   "cell_type": "code",
   "execution_count": 12,
   "metadata": {},
   "outputs": [
    {
     "data": {
      "text/plain": [
       "[<matplotlib.lines.Line2D at 0x7fccd8471d60>]"
      ]
     },
     "execution_count": 12,
     "metadata": {},
     "output_type": "execute_result"
    },
    {
     "data": {
      "image/png": "[encoded data removed]",
      "text/plain": [
       "<Figure size 432x288 with 1 Axes>"
      ]
     },
     "metadata": {
      "needs_background": "light"
     },
     "output_type": "display_data"
    }
   ],
   "source": [
    "# To Do: Generate and plot interpolated data\n",
    "x = data[0]\n",
    "fx = data[1]\n",
    "x_new = np.array([])\n",
    "fx_new = np.array([])\n",
    "\n",
    "for i in range(20):\n",
    "    if i < 19:\n",
    "        a = x[i]\n",
    "        fa = fx[i]\n",
    "        j = i + 1\n",
    "        b = x[j]\n",
    "        fb = fx[j]\n",
    "        x_new = np.append(x_new, a)\n",
    "        fx_new = np.append(fx_new, fa)\n",
    "        for k in range(100):\n",
    "            x_new = np.append(x_new, a + (k+1)*(b-a)/100)\n",
    "            fx_new = np.append(fx_new, linear_interpolation(a + (k+1)*(b-a)/100, a, fa, b, fb))\n",
    "    else:\n",
    "        pass\n",
    "plt.plot(x_new, fx_new)\n",
    "# print(x_new)"
   ]
  },
  {
   "cell_type": "markdown",
   "metadata": {},
   "source": [
    "#### Step 3: 2nd Order Lagrangian Interpolation\n",
    "Using your 2nd Order Lagrangian Interpolation function above, iterate through the sparse data and generate interpolated value.\n",
    "\n",
    "Here's one method to get you started:\n",
    "\n",
    "Starting at the 3rd data point, interate through the data, using the current value (let this value be $c$) and the previous two (let these be $a$ and $b$ where $b$ > $a$). Interpolate 100 points between the values of ($a, b$) and plot these values. Move onto the next data point and repeat. "
   ]
  },
  {
   "cell_type": "code",
   "execution_count": 17,
   "metadata": {},
   "outputs": [
    {
     "data": {
      "text/plain": [
       "[<matplotlib.lines.Line2D at 0x7fccd61dab50>]"
      ]
     },
     "execution_count": 17,
     "metadata": {},
     "output_type": "execute_result"
    },
    {
     "data": {
      "image/png": "[encoded data removed]",
      "text/plain": [
       "<Figure size 432x288 with 1 Axes>"
      ]
     },
     "metadata": {
      "needs_background": "light"
     },
     "output_type": "display_data"
    }
   ],
   "source": [
    "# To Do: Generate and plot interpolated data\n",
    "x = data[0]\n",
    "fx = data[1]\n",
    "x_new = np.array([])\n",
    "fx_new = np.array([])\n",
    "\n",
    "for i in range(20):\n",
    "    if i < 18:\n",
    "        a = x[i]\n",
    "        fa = fx[i]\n",
    "        j = i + 1\n",
    "        b = x[j]\n",
    "        fb = fx[j]\n",
    "        j = j + 1\n",
    "        c = x[j]\n",
    "        fc = fx[j]\n",
    "        x_new = np.append(x_new, a)\n",
    "        fx_new = np.append(fx_new, fa)\n",
    "        for k in range(100):\n",
    "            x_new = np.append(x_new, a + (k+1)*(b-a)/101)\n",
    "            fx_new = np.append(fx_new, lagrangian_interpolation(a + (k+1)*(b-a)/100, a, fa, b, fb, c, fc))\n",
    "x_new = np.append(x_new, b)\n",
    "fx_new = np.append(fx_new, fb)\n",
    "for k in range(100):\n",
    "    x_new = np.append(x_new, b + (k+1)*(c-b)/101)\n",
    "    fx_new = np.append(fx_new, lagrangian_interpolation(b + (k+1)*(c-b)/100, a, fa, b, fb, c, fc))\n",
    "x_new = np.append(x_new, c)\n",
    "fx_new = np.append(fx_new, fc)\n",
    "plt.plot(x_new, fx_new)"
   ]
  }
 ],
 "metadata": {
  "kernelspec": {
   "display_name": "Python 3",
   "language": "python",
   "name": "python3"
  },
  "language_info": {
   "codemirror_mode": {
    "name": "ipython",
    "version": 3
   },
   "file_extension": ".py",
   "mimetype": "text/x-python",
   "name": "python",
   "nbconvert_exporter": "python",
   "pygments_lexer": "ipython3",
   "version": "3.8.8"
  }
 },
 "nbformat": 4,
 "nbformat_minor": 2
}
